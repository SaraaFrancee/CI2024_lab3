{
 "cells": [
  {
   "cell_type": "markdown",
   "metadata": {},
   "source": [
    "## n*n-1 Puzzle problem"
   ]
  },
  {
   "cell_type": "code",
   "execution_count": 49,
   "metadata": {},
   "outputs": [],
   "source": [
    "import numpy as np\n",
    "import random\n",
    "from icecream import ic\n",
    "from enum import Enum\n",
    "import queue"
   ]
  },
  {
   "cell_type": "code",
   "execution_count": 28,
   "metadata": {},
   "outputs": [],
   "source": [
    "class Direction(Enum):\n",
    "    UP = 1\n",
    "    DOWN = 2\n",
    "    RIGHT = 3\n",
    "    LEFT = 4"
   ]
  },
  {
   "cell_type": "markdown",
   "metadata": {},
   "source": [
    "#### Some function used to build the algorithms"
   ]
  },
  {
   "cell_type": "code",
   "execution_count": null,
   "metadata": {},
   "outputs": [],
   "source": [
    "def create_random_matrix(n):   ##given a number n return a matrix n*n dimensional with number from 0 to n*n-1 in randomized position\n",
    "    numbers = np.arange(n * n)\n",
    "    np.random.shuffle(numbers)\n",
    "    matrix = numbers.reshape(n, n)\n",
    "    return matrix\n",
    "\n",
    "def common_in_matrices(matrix1, matrix2): ##compare two matrices and return an array with the number that are in the same position in both two matrices\n",
    "    matrix1 = np.array(matrix1)\n",
    "    matrix2 = np.array(matrix2)\n",
    "    comparison = matrix1 == matrix2\n",
    "    result = matrix1[comparison]\n",
    "    return result\n",
    "\n",
    "def convenient_direction(n, matrix1, matrix2): #given a number return the directions to be used to move it from its position in the firtst matrix to the one in the second one\n",
    "    position1 = np.where(matrix1 == n)\n",
    "    position2 = np.where(matrix2 == n)\n",
    "    result = list()\n",
    "    if (position1[0][0]<position2[0][0]):\n",
    "        result.append(Direction.DOWN)\n",
    "    elif (position1[0][0]>position2[0][0]):\n",
    "        result.append(Direction.UP)\n",
    "    if (position1[1][0]<position2[1][0]):\n",
    "        result.append(Direction.RIGHT)\n",
    "    elif (position1[1][0]>position2[1][0]):\n",
    "        result.append(Direction.LEFT)\n",
    "    return result\n",
    "\n",
    "def min_move(n, matrix1, matrix2):  ##given a number return the number of step that are necessary to move it from its position in the firtst matrix to the one in the second one\n",
    "    direction = convenient_direction(n, matrix1, matrix2)\n",
    "    position1 = np.where(matrix1 == n)\n",
    "    position2 = np.where(matrix2 == n)\n",
    "    result = 0\n",
    "    if (Direction.UP in direction):\n",
    "        result += position1[0][0]-position2[0][0]\n",
    "    elif (Direction.DOWN in direction):\n",
    "        result += position2[0][0]-position1[0][0]\n",
    "    if (Direction.RIGHT in direction):\n",
    "        result += position2[1][0]-position1[1][0]\n",
    "    elif (Direction.LEFT in direction):\n",
    "        result += position1[1][0]-position2[1][0]  \n",
    "    return result\n",
    "\n",
    "def get_closer(n, matrix): ##given a number return the tuples with the coordinates of all directly closed numbers in the matrix\n",
    "    closer = list()\n",
    "    position = np.where(matrix == n)\n",
    "    if (position[0][0]>=1):\n",
    "        closer.append((position[0][0]-1, position[1][0], Direction.UP))\n",
    "    if (position[0][0]<=(len(matrix)-2)):\n",
    "        closer.append((position[0][0]+1, position[1][0], Direction.DOWN))\n",
    "    if (position[1][0]>=1):\n",
    "        closer.append((position[0][0], position[1][0]-1, Direction.LEFT))\n",
    "    if (position[1][0]<=(len(matrix)-2)):\n",
    "        closer.append((position[0][0], position[1][0]+1, Direction.RIGHT))\n",
    "    return closer\n"
   ]
  },
  {
   "cell_type": "markdown",
   "metadata": {},
   "source": [
    "### Initialize the problem"
   ]
  },
  {
   "cell_type": "code",
   "execution_count": 66,
   "metadata": {},
   "outputs": [
    {
     "name": "stderr",
     "output_type": "stream",
     "text": [
      "ic| START: array([[3, 7, 6],\n",
      "                  [8, 2, 0],\n",
      "                  [5, 4, 1]])\n",
      "    GOAL: array([[6, 1, 2],\n",
      "                 [7, 8, 3],\n",
      "                 [0, 4, 5]])\n"
     ]
    },
    {
     "data": {
      "text/plain": [
       "(array([[3, 7, 6],\n",
       "        [8, 2, 0],\n",
       "        [5, 4, 1]]),\n",
       " array([[6, 1, 2],\n",
       "        [7, 8, 3],\n",
       "        [0, 4, 5]]))"
      ]
     },
     "execution_count": 66,
     "metadata": {},
     "output_type": "execute_result"
    }
   ],
   "source": [
    "SIZE = 3\n",
    "START = create_random_matrix(SIZE)\n",
    "GOAL = create_random_matrix(SIZE)\n",
    "\n",
    "ic(START, GOAL)\n"
   ]
  },
  {
   "cell_type": "markdown",
   "metadata": {},
   "source": [
    "### Uniform-cost search"
   ]
  },
  {
   "cell_type": "code",
   "execution_count": 104,
   "metadata": {},
   "outputs": [],
   "source": [
    "\n",
    "def uniformCost_algorithm(initial, GOAL):\n",
    "    fronteer = queue.PriorityQueue()\n",
    "    state = initial.copy()\n",
    "    checked = set()\n",
    "    total_moves = 0\n",
    "    state_moves = 0\n",
    "    checked.add(state.tobytes())\n",
    "    while not np.array_equal(state, GOAL):\n",
    "        total_moves += 1\n",
    "        state_moves = state_moves+1\n",
    "        checked.add(state.tobytes())\n",
    "        closer = get_closer(0, state)\n",
    "        for c in closer:\n",
    "            position = np.where(state == 0)\n",
    "            new_state=state.copy()\n",
    "            num = state[c[0]][c[1]]\n",
    "            new_state[position[0][0]][position[1][0]] = num\n",
    "            new_state[c[0]][c[1]] = 0\n",
    "            common = common_in_matrices(state, GOAL)\n",
    "            if (new_state.tobytes() not in checked):\n",
    "                if (num in common):\n",
    "                    fronteer.put((3, (tuple(map(tuple, new_state)), state_moves)))\n",
    "                else:\n",
    "                    if (c[2] in convenient_direction(num, state, GOAL)):\n",
    "                        fronteer.put((1, (tuple(map(tuple, new_state)), state_moves)))\n",
    "                    else:\n",
    "                        fronteer.put((2, (tuple(map(tuple, new_state)), state_moves)))\n",
    "        priority, (state_as_tuple, state_moves) = fronteer.get()\n",
    "        state = np.array(state_as_tuple)\n",
    "    return (state_moves, total_moves)\n",
    "    \n"
   ]
  },
  {
   "cell_type": "markdown",
   "metadata": {},
   "source": [
    "### Breadth-first search"
   ]
  },
  {
   "cell_type": "code",
   "execution_count": 106,
   "metadata": {},
   "outputs": [],
   "source": [
    "def breadthFirst_algorithm(initial, GOAL):\n",
    "    checked = set()\n",
    "    total_moves = 0\n",
    "    fronteer = []\n",
    "    state = initial.copy()\n",
    "    state_moves = 0\n",
    "    checked.add(state.tobytes())\n",
    "    while not np.array_equal(state, GOAL):\n",
    "        total_moves += 1\n",
    "        state_moves = state_moves+1\n",
    "        checked.add(state.tobytes())\n",
    "        closer = get_closer(0, state)\n",
    "        for c in closer:\n",
    "            position = np.where(state == 0)\n",
    "            new_state=state.copy()\n",
    "            num = state[c[0]][c[1]]\n",
    "            new_state[position[0][0]][position[1][0]] = num\n",
    "            new_state[c[0]][c[1]] = 0\n",
    "            if (new_state.tobytes() not in checked):\n",
    "                fronteer.append((tuple(map(tuple, new_state)), state_moves)) \n",
    "        (state_as_tuple, state_moves) = fronteer.pop(0)\n",
    "        state = np.array(state_as_tuple)\n",
    "    return (state_moves, total_moves)"
   ]
  },
  {
   "cell_type": "code",
   "execution_count": 110,
   "metadata": {},
   "outputs": [
    {
     "name": "stderr",
     "output_type": "stream",
     "text": [
      "ic| 'Breadth-first', this: 23, total: 229998\n",
      "ic| 'Uniform-cost', this: 149, total: 149919\n"
     ]
    }
   ],
   "source": [
    "(this, total) = breadthFirst_algorithm(START, GOAL)\n",
    "ic('Breadth-first',this,total)\n",
    "(this, total) = uniformCost_algorithm(START, GOAL)\n",
    "ic('Uniform-cost',this,total)\n",
    "None"
   ]
  }
 ],
 "metadata": {
  "kernelspec": {
   "display_name": "CI2024",
   "language": "python",
   "name": "python3"
  },
  "language_info": {
   "codemirror_mode": {
    "name": "ipython",
    "version": 3
   },
   "file_extension": ".py",
   "mimetype": "text/x-python",
   "name": "python",
   "nbconvert_exporter": "python",
   "pygments_lexer": "ipython3",
   "version": "3.12.7"
  }
 },
 "nbformat": 4,
 "nbformat_minor": 2
}
